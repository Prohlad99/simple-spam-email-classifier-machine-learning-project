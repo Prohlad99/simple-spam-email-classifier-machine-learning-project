{
 "cells": [
  {
   "cell_type": "code",
   "execution_count": null,
   "id": "cb1cf3fa",
   "metadata": {},
   "outputs": [],
   "source": [
    "import streamlit as st\n",
    "import pickle\n",
    "\n",
    "cv = pickle.load(open('vectorizer.pkl', 'rb'))\n",
    "model = pickle.load(open('model.pkl', 'rb'))\n",
    "\n",
    "st.title(\"Spam Email Classifier\")\n",
    "input_sms = st.text_input(\"Enter The Message\")\n",
    "\n",
    "if st.button('Predict'):\n",
    "    vector_input = cv.transform([input_sms])\n",
    "    result = model.predict(vector_input)\n",
    "    if result[0] == 1:\n",
    "        st.header(\"This Is A Spam-Email\")\n",
    "    else:\n",
    "        st.header(\"This Is Not A Spam-Email\")\n"
   ]
  }
 ],
 "metadata": {
  "kernelspec": {
   "display_name": "Python 3 (ipykernel)",
   "language": "python",
   "name": "python3"
  },
  "language_info": {
   "codemirror_mode": {
    "name": "ipython",
    "version": 3
   },
   "file_extension": ".py",
   "mimetype": "text/x-python",
   "name": "python",
   "nbconvert_exporter": "python",
   "pygments_lexer": "ipython3",
   "version": "3.9.13"
  }
 },
 "nbformat": 4,
 "nbformat_minor": 5
}
